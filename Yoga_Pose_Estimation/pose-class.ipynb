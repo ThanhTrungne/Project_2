{
 "cells": [
  {
   "cell_type": "code",
   "execution_count": 2,
   "metadata": {},
   "outputs": [],
   "source": [
    "import mediapipe as mp\n",
    "import cv2"
   ]
  },
  {
   "cell_type": "code",
   "execution_count": 3,
   "metadata": {},
   "outputs": [],
   "source": [
    "mp_drawing = mp.solutions.drawing_utils\n",
    "mp_holistic = mp.solutions.holistic"
   ]
  },
  {
   "cell_type": "code",
   "execution_count": 63,
   "metadata": {},
   "outputs": [],
   "source": [
    "cap = cv2.VideoCapture(0)\n",
    "while cap.isOpened():\n",
    "    ret, frame = cap.read()\n",
    "    cv2.imshow('Raw Webcam Feed', frame)\n",
    "    \n",
    "    if cv2.waitKey(10) & 0xFF == ord('q'):\n",
    "        break\n",
    "\n",
    "cap.release()\n",
    "cv2.destroyAllWindows()"
   ]
  },
  {
   "cell_type": "code",
   "execution_count": 64,
   "metadata": {},
   "outputs": [],
   "source": [
    "cap = cv2.VideoCapture(0)\n",
    "with mp_holistic.Holistic(min_detection_confidence=0.5, min_tracking_confidence=0.5) as holistic:\n",
    "    \n",
    "    while cap.isOpened():\n",
    "        ret, frame = cap.read()\n",
    "\n",
    "        image = cv2.cvtColor(frame, cv2.COLOR_BGR2RGB)\n",
    "        image.flags.writeable = False\n",
    "\n",
    "        results = holistic.process(image)\n",
    "        \n",
    "        image.flags.writeable = True\n",
    "        image = cv2.cvtColor(image, cv2.COLOR_RGB2BGR)\n",
    "        \n",
    "        # Pose Detections\n",
    "        mp_drawing.draw_landmarks(image, results.pose_landmarks, mp_holistic.POSE_CONNECTIONS)\n",
    "                        \n",
    "        cv2.imshow('Raw Webcam Feed', image)\n",
    "\n",
    "        if cv2.waitKey(10) & 0xFF == ord('q'):\n",
    "            break\n",
    "\n",
    "cap.release()\n",
    "cv2.destroyAllWindows()"
   ]
  },
  {
   "cell_type": "code",
   "execution_count": 4,
   "metadata": {},
   "outputs": [],
   "source": [
    "import csv\n",
    "import os\n",
    "import numpy as np"
   ]
  },
  {
   "cell_type": "code",
   "execution_count": 66,
   "metadata": {},
   "outputs": [
    {
     "data": {
      "text/plain": [
       "33"
      ]
     },
     "execution_count": 66,
     "metadata": {},
     "output_type": "execute_result"
    }
   ],
   "source": [
    "num_coords = len(results.pose_landmarks.landmark)\n",
    "num_coords"
   ]
  },
  {
   "cell_type": "code",
   "execution_count": 67,
   "metadata": {},
   "outputs": [],
   "source": [
    "landmarks = ['class']\n",
    "for val in range(1, num_coords+1):\n",
    "    landmarks += ['x{}'.format(val), 'y{}'.format(val), 'z{}'.format(val), 'v{}'.format(val)]"
   ]
  },
  {
   "cell_type": "code",
   "execution_count": 68,
   "metadata": {},
   "outputs": [],
   "source": [
    "with open('coords.csv', mode='w', newline='') as f:\n",
    "    csv_writer = csv.writer(f, delimiter=',', quotechar='\"', quoting=csv.QUOTE_MINIMAL)\n",
    "    csv_writer.writerow(landmarks)"
   ]
  },
  {
   "cell_type": "code",
   "execution_count": 40,
   "metadata": {},
   "outputs": [],
   "source": [
    "class_name = \"Bound Angle\""
   ]
  },
  {
   "cell_type": "code",
   "execution_count": 41,
   "metadata": {},
   "outputs": [],
   "source": [
    "cap = cv2.VideoCapture(0)\n",
    "with mp_holistic.Holistic(min_detection_confidence=0.5, min_tracking_confidence=0.5) as holistic:\n",
    "    \n",
    "    while cap.isOpened():\n",
    "        ret, frame = cap.read()\n",
    "        \n",
    "        image = cv2.cvtColor(frame, cv2.COLOR_BGR2RGB)\n",
    "        image.flags.writeable = False\n",
    "        \n",
    "        results = holistic.process(image)\n",
    "\n",
    "        image.flags.writeable = True\n",
    "        image = cv2.cvtColor(image, cv2.COLOR_RGB2BGR)\n",
    "        \n",
    "        # Pose Detections\n",
    "        mp_drawing.draw_landmarks(image, results.pose_landmarks, mp_holistic.POSE_CONNECTIONS)\n",
    "        \n",
    "        # Export coordinates\n",
    "        try:\n",
    "            pose = results.pose_landmarks.landmark\n",
    "            pose_row = list(np.array([[landmark.x, landmark.y, landmark.z, landmark.visibility] for landmark in pose]).flatten())\n",
    "            row = pose_row\n",
    "            row.insert(0, class_name)\n",
    "\n",
    "            with open('coords.csv', mode='a', newline='') as f:\n",
    "                csv_writer = csv.writer(f, delimiter=',', quotechar='\"', quoting=csv.QUOTE_MINIMAL)\n",
    "                csv_writer.writerow(row)\n",
    "\n",
    "        except:\n",
    "            pass\n",
    "                        \n",
    "        cv2.imshow('Raw Webcam Feed', image)\n",
    "\n",
    "        if cv2.waitKey(10) & 0xFF == ord('q'):\n",
    "            break\n",
    "\n",
    "cap.release()\n",
    "cv2.destroyAllWindows()"
   ]
  },
  {
   "cell_type": "code",
   "execution_count": 69,
   "metadata": {},
   "outputs": [],
   "source": [
    "import pandas as pd\n",
    "from sklearn.model_selection import train_test_split"
   ]
  },
  {
   "cell_type": "code",
   "execution_count": 70,
   "metadata": {},
   "outputs": [],
   "source": [
    "df = pd.read_csv('coords.csv')"
   ]
  },
  {
   "cell_type": "code",
   "execution_count": 71,
   "metadata": {},
   "outputs": [],
   "source": [
    "x = df.drop('class', axis=1)\n",
    "y = df['class']"
   ]
  },
  {
   "cell_type": "code",
   "execution_count": 72,
   "metadata": {},
   "outputs": [
    {
     "ename": "ValueError",
     "evalue": "With n_samples=0, test_size=0.3 and train_size=None, the resulting train set will be empty. Adjust any of the aforementioned parameters.",
     "output_type": "error",
     "traceback": [
      "\u001b[1;31m---------------------------------------------------------------------------\u001b[0m",
      "\u001b[1;31mValueError\u001b[0m                                Traceback (most recent call last)",
      "Cell \u001b[1;32mIn[72], line 1\u001b[0m\n\u001b[1;32m----> 1\u001b[0m x_train, x_test, y_train, y_test \u001b[39m=\u001b[39m train_test_split(x, y, test_size\u001b[39m=\u001b[39;49m\u001b[39m0.3\u001b[39;49m, random_state\u001b[39m=\u001b[39;49m\u001b[39m1234\u001b[39;49m)\n",
      "File \u001b[1;32mc:\\Users\\HP\\AppData\\Local\\Programs\\Python\\Python311\\Lib\\site-packages\\sklearn\\utils\\_param_validation.py:211\u001b[0m, in \u001b[0;36mvalidate_params.<locals>.decorator.<locals>.wrapper\u001b[1;34m(*args, **kwargs)\u001b[0m\n\u001b[0;32m    205\u001b[0m \u001b[39mtry\u001b[39;00m:\n\u001b[0;32m    206\u001b[0m     \u001b[39mwith\u001b[39;00m config_context(\n\u001b[0;32m    207\u001b[0m         skip_parameter_validation\u001b[39m=\u001b[39m(\n\u001b[0;32m    208\u001b[0m             prefer_skip_nested_validation \u001b[39mor\u001b[39;00m global_skip_validation\n\u001b[0;32m    209\u001b[0m         )\n\u001b[0;32m    210\u001b[0m     ):\n\u001b[1;32m--> 211\u001b[0m         \u001b[39mreturn\u001b[39;00m func(\u001b[39m*\u001b[39;49margs, \u001b[39m*\u001b[39;49m\u001b[39m*\u001b[39;49mkwargs)\n\u001b[0;32m    212\u001b[0m \u001b[39mexcept\u001b[39;00m InvalidParameterError \u001b[39mas\u001b[39;00m e:\n\u001b[0;32m    213\u001b[0m     \u001b[39m# When the function is just a wrapper around an estimator, we allow\u001b[39;00m\n\u001b[0;32m    214\u001b[0m     \u001b[39m# the function to delegate validation to the estimator, but we replace\u001b[39;00m\n\u001b[0;32m    215\u001b[0m     \u001b[39m# the name of the estimator by the name of the function in the error\u001b[39;00m\n\u001b[0;32m    216\u001b[0m     \u001b[39m# message to avoid confusion.\u001b[39;00m\n\u001b[0;32m    217\u001b[0m     msg \u001b[39m=\u001b[39m re\u001b[39m.\u001b[39msub(\n\u001b[0;32m    218\u001b[0m         \u001b[39mr\u001b[39m\u001b[39m\"\u001b[39m\u001b[39mparameter of \u001b[39m\u001b[39m\\\u001b[39m\u001b[39mw+ must be\u001b[39m\u001b[39m\"\u001b[39m,\n\u001b[0;32m    219\u001b[0m         \u001b[39mf\u001b[39m\u001b[39m\"\u001b[39m\u001b[39mparameter of \u001b[39m\u001b[39m{\u001b[39;00mfunc\u001b[39m.\u001b[39m\u001b[39m__qualname__\u001b[39m\u001b[39m}\u001b[39;00m\u001b[39m must be\u001b[39m\u001b[39m\"\u001b[39m,\n\u001b[0;32m    220\u001b[0m         \u001b[39mstr\u001b[39m(e),\n\u001b[0;32m    221\u001b[0m     )\n",
      "File \u001b[1;32mc:\\Users\\HP\\AppData\\Local\\Programs\\Python\\Python311\\Lib\\site-packages\\sklearn\\model_selection\\_split.py:2617\u001b[0m, in \u001b[0;36mtrain_test_split\u001b[1;34m(test_size, train_size, random_state, shuffle, stratify, *arrays)\u001b[0m\n\u001b[0;32m   2614\u001b[0m arrays \u001b[39m=\u001b[39m indexable(\u001b[39m*\u001b[39marrays)\n\u001b[0;32m   2616\u001b[0m n_samples \u001b[39m=\u001b[39m _num_samples(arrays[\u001b[39m0\u001b[39m])\n\u001b[1;32m-> 2617\u001b[0m n_train, n_test \u001b[39m=\u001b[39m _validate_shuffle_split(\n\u001b[0;32m   2618\u001b[0m     n_samples, test_size, train_size, default_test_size\u001b[39m=\u001b[39;49m\u001b[39m0.25\u001b[39;49m\n\u001b[0;32m   2619\u001b[0m )\n\u001b[0;32m   2621\u001b[0m \u001b[39mif\u001b[39;00m shuffle \u001b[39mis\u001b[39;00m \u001b[39mFalse\u001b[39;00m:\n\u001b[0;32m   2622\u001b[0m     \u001b[39mif\u001b[39;00m stratify \u001b[39mis\u001b[39;00m \u001b[39mnot\u001b[39;00m \u001b[39mNone\u001b[39;00m:\n",
      "File \u001b[1;32mc:\\Users\\HP\\AppData\\Local\\Programs\\Python\\Python311\\Lib\\site-packages\\sklearn\\model_selection\\_split.py:2273\u001b[0m, in \u001b[0;36m_validate_shuffle_split\u001b[1;34m(n_samples, test_size, train_size, default_test_size)\u001b[0m\n\u001b[0;32m   2270\u001b[0m n_train, n_test \u001b[39m=\u001b[39m \u001b[39mint\u001b[39m(n_train), \u001b[39mint\u001b[39m(n_test)\n\u001b[0;32m   2272\u001b[0m \u001b[39mif\u001b[39;00m n_train \u001b[39m==\u001b[39m \u001b[39m0\u001b[39m:\n\u001b[1;32m-> 2273\u001b[0m     \u001b[39mraise\u001b[39;00m \u001b[39mValueError\u001b[39;00m(\n\u001b[0;32m   2274\u001b[0m         \u001b[39m\"\u001b[39m\u001b[39mWith n_samples=\u001b[39m\u001b[39m{}\u001b[39;00m\u001b[39m, test_size=\u001b[39m\u001b[39m{}\u001b[39;00m\u001b[39m and train_size=\u001b[39m\u001b[39m{}\u001b[39;00m\u001b[39m, the \u001b[39m\u001b[39m\"\u001b[39m\n\u001b[0;32m   2275\u001b[0m         \u001b[39m\"\u001b[39m\u001b[39mresulting train set will be empty. Adjust any of the \u001b[39m\u001b[39m\"\u001b[39m\n\u001b[0;32m   2276\u001b[0m         \u001b[39m\"\u001b[39m\u001b[39maforementioned parameters.\u001b[39m\u001b[39m\"\u001b[39m\u001b[39m.\u001b[39mformat(n_samples, test_size, train_size)\n\u001b[0;32m   2277\u001b[0m     )\n\u001b[0;32m   2279\u001b[0m \u001b[39mreturn\u001b[39;00m n_train, n_test\n",
      "\u001b[1;31mValueError\u001b[0m: With n_samples=0, test_size=0.3 and train_size=None, the resulting train set will be empty. Adjust any of the aforementioned parameters."
     ]
    }
   ],
   "source": [
    "x_train, x_test, y_train, y_test = train_test_split(x, y, test_size=0.3, random_state=1234)"
   ]
  },
  {
   "cell_type": "code",
   "execution_count": 73,
   "metadata": {},
   "outputs": [
    {
     "data": {
      "text/plain": [
       "876            Plank\n",
       "646       Warrior ll\n",
       "1781      Warrior ll\n",
       "499             Tree\n",
       "1986    Child's Pose\n",
       "            ...     \n",
       "652       Warrior ll\n",
       "202          Goddess\n",
       "367             Tree\n",
       "281             Tree\n",
       "2803    Child's Pose\n",
       "Name: class, Length: 992, dtype: object"
      ]
     },
     "execution_count": 73,
     "metadata": {},
     "output_type": "execute_result"
    }
   ],
   "source": [
    "y_test"
   ]
  },
  {
   "cell_type": "code",
   "execution_count": 5,
   "metadata": {},
   "outputs": [],
   "source": [
    "from sklearn.pipeline import make_pipeline\n",
    "from sklearn.preprocessing import StandardScaler\n",
    "from sklearn.linear_model import LogisticRegression, RidgeClassifier\n",
    "from sklearn.ensemble import RandomForestClassifier, GradientBoostingClassifier"
   ]
  },
  {
   "cell_type": "code",
   "execution_count": 75,
   "metadata": {},
   "outputs": [],
   "source": [
    "pipelines = {\n",
    "    'lr':make_pipeline(StandardScaler(), LogisticRegression()),\n",
    "    'rc':make_pipeline(StandardScaler(), RidgeClassifier()),\n",
    "    'rf':make_pipeline(StandardScaler(), RandomForestClassifier()),\n",
    "    'gb':make_pipeline(StandardScaler(), GradientBoostingClassifier())\n",
    "}"
   ]
  },
  {
   "cell_type": "code",
   "execution_count": 10,
   "metadata": {},
   "outputs": [
    {
     "ename": "NameError",
     "evalue": "name 'pipelines' is not defined",
     "output_type": "error",
     "traceback": [
      "\u001b[1;31m---------------------------------------------------------------------------\u001b[0m",
      "\u001b[1;31mNameError\u001b[0m                                 Traceback (most recent call last)",
      "Cell \u001b[1;32mIn[10], line 2\u001b[0m\n\u001b[0;32m      1\u001b[0m fit_models \u001b[39m=\u001b[39m {}\n\u001b[1;32m----> 2\u001b[0m \u001b[39mfor\u001b[39;00m algo, pipeline \u001b[39min\u001b[39;00m pipelines\u001b[39m.\u001b[39mitems():\n\u001b[0;32m      3\u001b[0m     model \u001b[39m=\u001b[39m pipeline\u001b[39m.\u001b[39mfit(x_train, y_train)\n\u001b[0;32m      4\u001b[0m     fit_models[algo] \u001b[39m=\u001b[39m model\n",
      "\u001b[1;31mNameError\u001b[0m: name 'pipelines' is not defined"
     ]
    }
   ],
   "source": [
    "fit_models = {}\n",
    "for algo, pipeline in pipelines.items():\n",
    "    model = pipeline.fit(x_train, y_train)\n",
    "    fit_models[algo] = model"
   ]
  },
  {
   "cell_type": "code",
   "execution_count": 77,
   "metadata": {},
   "outputs": [
    {
     "data": {
      "text/plain": [
       "array(['Plank', 'Warrior ll', 'Warrior ll', 'Tree', \"Child's Pose\",\n",
       "       'Bound Angle', \"Child's Pose\", \"Child's Pose\", 'Goddess',\n",
       "       'Warrior ll', \"Child's Pose\", \"Child's Pose\", 'Warrior ll',\n",
       "       'Plank', 'Plank', 'Plank', 'Plank', 'Goddess', 'Plank', 'Goddess',\n",
       "       'Bound Angle', 'Bound Angle', 'Goddess', 'Plank', 'Plank',\n",
       "       \"Child's Pose\", 'Plank', 'Goddess', \"Child's Pose\", \"Child's Pose\",\n",
       "       'Tree', 'Plank', 'Bound Angle', 'Bound Angle', 'Plank',\n",
       "       \"Child's Pose\", 'Bound Angle', 'Plank', \"Child's Pose\", 'Tree',\n",
       "       \"Child's Pose\", 'Tree', 'Goddess', 'Warrior ll', 'Tree',\n",
       "       \"Child's Pose\", 'Plank', 'Warrior ll', 'Tree', 'Bound Angle',\n",
       "       'Bound Angle', 'Tree', 'Plank', 'Tree', 'Tree', 'Bound Angle',\n",
       "       'Tree', 'Warrior ll', \"Child's Pose\", 'Plank', 'Plank',\n",
       "       'Warrior ll', 'Warrior ll', \"Child's Pose\", \"Child's Pose\", 'Tree',\n",
       "       'Plank', \"Child's Pose\", \"Child's Pose\", \"Child's Pose\",\n",
       "       'Warrior ll', 'Goddess', 'Plank', 'Bound Angle', 'Goddess',\n",
       "       'Warrior ll', 'Bound Angle', 'Plank', 'Warrior ll', 'Goddess',\n",
       "       'Goddess', \"Child's Pose\", 'Tree', 'Bound Angle', 'Warrior ll',\n",
       "       'Plank', 'Bound Angle', 'Warrior ll', 'Bound Angle', 'Tree',\n",
       "       'Plank', \"Child's Pose\", 'Bound Angle', 'Warrior ll', 'Tree',\n",
       "       'Warrior ll', 'Bound Angle', 'Tree', 'Tree', \"Child's Pose\",\n",
       "       \"Child's Pose\", \"Child's Pose\", 'Plank', 'Warrior ll', 'Tree',\n",
       "       'Plank', 'Goddess', \"Child's Pose\", 'Warrior ll', \"Child's Pose\",\n",
       "       'Bound Angle', 'Goddess', 'Plank', \"Child's Pose\", 'Plank',\n",
       "       \"Child's Pose\", \"Child's Pose\", 'Goddess', 'Warrior ll', 'Plank',\n",
       "       'Tree', 'Warrior ll', 'Tree', \"Child's Pose\", \"Child's Pose\",\n",
       "       \"Child's Pose\", 'Goddess', \"Child's Pose\", \"Child's Pose\",\n",
       "       'Warrior ll', \"Child's Pose\", 'Goddess', 'Bound Angle', 'Goddess',\n",
       "       'Plank', \"Child's Pose\", \"Child's Pose\", 'Tree', 'Tree',\n",
       "       'Bound Angle', 'Plank', 'Plank', \"Child's Pose\", \"Child's Pose\",\n",
       "       \"Child's Pose\", 'Plank', 'Tree', \"Child's Pose\", 'Tree',\n",
       "       \"Child's Pose\", 'Goddess', \"Child's Pose\", 'Tree', 'Bound Angle',\n",
       "       \"Child's Pose\", 'Bound Angle', 'Tree', 'Bound Angle', 'Plank',\n",
       "       'Warrior ll', \"Child's Pose\", 'Goddess', 'Bound Angle',\n",
       "       'Warrior ll', 'Warrior ll', 'Plank', 'Tree', \"Child's Pose\",\n",
       "       'Tree', 'Tree', 'Warrior ll', 'Tree', 'Plank', \"Child's Pose\",\n",
       "       'Plank', 'Bound Angle', \"Child's Pose\", 'Warrior ll', 'Plank',\n",
       "       'Goddess', 'Bound Angle', 'Bound Angle', \"Child's Pose\", 'Tree',\n",
       "       'Tree', 'Warrior ll', \"Child's Pose\", \"Child's Pose\", 'Plank',\n",
       "       'Goddess', \"Child's Pose\", 'Bound Angle', 'Goddess', 'Tree',\n",
       "       \"Child's Pose\", \"Child's Pose\", \"Child's Pose\", 'Plank',\n",
       "       \"Child's Pose\", 'Tree', 'Plank', \"Child's Pose\", \"Child's Pose\",\n",
       "       'Warrior ll', \"Child's Pose\", \"Child's Pose\", \"Child's Pose\",\n",
       "       'Tree', 'Goddess', 'Tree', 'Tree', 'Warrior ll', 'Plank', 'Tree',\n",
       "       'Plank', 'Warrior ll', 'Plank', 'Plank', \"Child's Pose\",\n",
       "       \"Child's Pose\", 'Tree', \"Child's Pose\", 'Tree', 'Plank', 'Tree',\n",
       "       'Goddess', 'Plank', 'Plank', 'Plank', 'Plank', 'Goddess',\n",
       "       'Goddess', 'Plank', 'Tree', 'Tree', \"Child's Pose\", 'Warrior ll',\n",
       "       'Bound Angle', 'Tree', \"Child's Pose\", 'Plank', 'Plank', 'Tree',\n",
       "       'Warrior ll', \"Child's Pose\", 'Goddess', \"Child's Pose\", 'Plank',\n",
       "       'Goddess', 'Bound Angle', 'Warrior ll', 'Tree', 'Warrior ll',\n",
       "       \"Child's Pose\", 'Bound Angle', \"Child's Pose\", 'Warrior ll',\n",
       "       'Bound Angle', \"Child's Pose\", \"Child's Pose\", \"Child's Pose\",\n",
       "       'Goddess', 'Bound Angle', 'Warrior ll', \"Child's Pose\", 'Plank',\n",
       "       'Warrior ll', 'Plank', 'Goddess', 'Warrior ll', \"Child's Pose\",\n",
       "       'Plank', 'Plank', 'Plank', 'Plank', 'Tree', 'Bound Angle',\n",
       "       'Goddess', \"Child's Pose\", 'Tree', 'Goddess', 'Warrior ll', 'Tree',\n",
       "       'Tree', 'Warrior ll', 'Goddess', 'Tree', 'Warrior ll', 'Plank',\n",
       "       'Tree', 'Tree', \"Child's Pose\", 'Plank', 'Plank', 'Bound Angle',\n",
       "       'Bound Angle', 'Tree', 'Bound Angle', \"Child's Pose\", 'Plank',\n",
       "       'Bound Angle', \"Child's Pose\", \"Child's Pose\", 'Tree',\n",
       "       \"Child's Pose\", 'Warrior ll', 'Goddess', 'Tree', 'Plank', 'Tree',\n",
       "       \"Child's Pose\", 'Tree', 'Warrior ll', \"Child's Pose\",\n",
       "       \"Child's Pose\", \"Child's Pose\", 'Goddess', 'Tree', 'Warrior ll',\n",
       "       'Plank', 'Bound Angle', 'Bound Angle', 'Tree', 'Plank',\n",
       "       \"Child's Pose\", 'Plank', \"Child's Pose\", \"Child's Pose\",\n",
       "       'Bound Angle', 'Plank', \"Child's Pose\", 'Plank', 'Plank',\n",
       "       \"Child's Pose\", 'Goddess', \"Child's Pose\", 'Warrior ll', 'Plank',\n",
       "       'Warrior ll', \"Child's Pose\", 'Tree', 'Bound Angle', 'Goddess',\n",
       "       \"Child's Pose\", \"Child's Pose\", 'Bound Angle', 'Goddess',\n",
       "       'Warrior ll', 'Plank', 'Plank', 'Plank', 'Warrior ll',\n",
       "       \"Child's Pose\", \"Child's Pose\", 'Bound Angle', \"Child's Pose\",\n",
       "       'Goddess', 'Goddess', \"Child's Pose\", \"Child's Pose\",\n",
       "       \"Child's Pose\", 'Warrior ll', 'Tree', \"Child's Pose\", 'Plank',\n",
       "       'Warrior ll', 'Bound Angle', 'Plank', 'Goddess', 'Tree', 'Plank',\n",
       "       'Bound Angle', 'Bound Angle', \"Child's Pose\", \"Child's Pose\",\n",
       "       'Bound Angle', 'Tree', \"Child's Pose\", 'Bound Angle', 'Tree',\n",
       "       \"Child's Pose\", 'Goddess', 'Goddess', 'Tree', 'Warrior ll',\n",
       "       'Bound Angle', 'Warrior ll', 'Warrior ll', 'Tree', 'Goddess',\n",
       "       'Plank', \"Child's Pose\", \"Child's Pose\", 'Tree', 'Bound Angle',\n",
       "       \"Child's Pose\", 'Plank', 'Plank', 'Bound Angle', 'Warrior ll',\n",
       "       \"Child's Pose\", 'Bound Angle', 'Warrior ll', 'Warrior ll',\n",
       "       \"Child's Pose\", 'Warrior ll', 'Goddess', \"Child's Pose\",\n",
       "       'Bound Angle', 'Tree', \"Child's Pose\", 'Bound Angle', 'Plank',\n",
       "       'Tree', \"Child's Pose\", 'Plank', 'Warrior ll', 'Goddess',\n",
       "       'Goddess', \"Child's Pose\", \"Child's Pose\", \"Child's Pose\", 'Plank',\n",
       "       'Plank', 'Tree', \"Child's Pose\", \"Child's Pose\", \"Child's Pose\",\n",
       "       \"Child's Pose\", \"Child's Pose\", \"Child's Pose\", 'Plank',\n",
       "       'Bound Angle', 'Bound Angle', 'Warrior ll', 'Goddess', 'Plank',\n",
       "       'Plank', 'Plank', 'Plank', \"Child's Pose\", 'Plank', 'Tree', 'Tree',\n",
       "       'Bound Angle', 'Goddess', 'Tree', 'Warrior ll', 'Plank', 'Goddess',\n",
       "       'Tree', \"Child's Pose\", 'Tree', 'Tree', 'Plank', 'Tree', 'Tree',\n",
       "       \"Child's Pose\", \"Child's Pose\", \"Child's Pose\", 'Plank', 'Tree',\n",
       "       \"Child's Pose\", 'Warrior ll', 'Tree', 'Tree', 'Tree',\n",
       "       \"Child's Pose\", 'Plank', 'Bound Angle', 'Plank', 'Warrior ll',\n",
       "       \"Child's Pose\", 'Warrior ll', 'Plank', 'Plank', 'Warrior ll',\n",
       "       'Bound Angle', 'Tree', 'Tree', 'Plank', 'Goddess', 'Tree', 'Tree',\n",
       "       'Goddess', \"Child's Pose\", 'Goddess', 'Plank', 'Goddess',\n",
       "       \"Child's Pose\", 'Plank', 'Warrior ll', 'Plank', 'Warrior ll',\n",
       "       \"Child's Pose\", \"Child's Pose\", 'Warrior ll', 'Plank', 'Tree',\n",
       "       'Plank', \"Child's Pose\", 'Warrior ll', 'Warrior ll', 'Goddess',\n",
       "       'Warrior ll', 'Goddess', \"Child's Pose\", 'Tree', 'Goddess',\n",
       "       \"Child's Pose\", \"Child's Pose\", 'Plank', 'Goddess', 'Warrior ll',\n",
       "       \"Child's Pose\", \"Child's Pose\", \"Child's Pose\", \"Child's Pose\",\n",
       "       \"Child's Pose\", \"Child's Pose\", 'Plank', 'Tree', 'Plank',\n",
       "       'Warrior ll', 'Tree', \"Child's Pose\", 'Plank', 'Warrior ll',\n",
       "       'Goddess', 'Tree', 'Bound Angle', \"Child's Pose\", 'Warrior ll',\n",
       "       'Tree', 'Tree', 'Plank', 'Plank', \"Child's Pose\", 'Bound Angle',\n",
       "       \"Child's Pose\", 'Plank', 'Goddess', \"Child's Pose\", 'Warrior ll',\n",
       "       'Warrior ll', \"Child's Pose\", \"Child's Pose\", 'Tree', 'Plank',\n",
       "       \"Child's Pose\", \"Child's Pose\", \"Child's Pose\", \"Child's Pose\",\n",
       "       'Plank', 'Warrior ll', \"Child's Pose\", \"Child's Pose\", 'Plank',\n",
       "       'Bound Angle', 'Plank', \"Child's Pose\", \"Child's Pose\",\n",
       "       \"Child's Pose\", \"Child's Pose\", \"Child's Pose\", \"Child's Pose\",\n",
       "       'Bound Angle', 'Warrior ll', 'Plank', \"Child's Pose\",\n",
       "       \"Child's Pose\", 'Bound Angle', 'Bound Angle', \"Child's Pose\",\n",
       "       \"Child's Pose\", 'Tree', 'Tree', 'Plank', 'Tree', 'Warrior ll',\n",
       "       'Plank', 'Plank', \"Child's Pose\", 'Bound Angle', 'Bound Angle',\n",
       "       'Bound Angle', 'Warrior ll', \"Child's Pose\", 'Bound Angle', 'Tree',\n",
       "       'Bound Angle', 'Bound Angle', \"Child's Pose\", 'Plank',\n",
       "       \"Child's Pose\", 'Bound Angle', 'Plank', 'Tree', \"Child's Pose\",\n",
       "       \"Child's Pose\", 'Plank', 'Warrior ll', 'Tree', \"Child's Pose\",\n",
       "       'Plank', 'Warrior ll', 'Bound Angle', \"Child's Pose\", 'Plank',\n",
       "       'Plank', 'Bound Angle', \"Child's Pose\", 'Tree', 'Warrior ll',\n",
       "       \"Child's Pose\", 'Tree', 'Tree', \"Child's Pose\", 'Bound Angle',\n",
       "       'Goddess', 'Warrior ll', 'Goddess', 'Plank', 'Bound Angle',\n",
       "       'Goddess', \"Child's Pose\", 'Warrior ll', 'Bound Angle',\n",
       "       'Bound Angle', 'Bound Angle', \"Child's Pose\", 'Bound Angle',\n",
       "       \"Child's Pose\", \"Child's Pose\", 'Tree', 'Plank', 'Bound Angle',\n",
       "       \"Child's Pose\", 'Bound Angle', 'Tree', 'Tree', \"Child's Pose\",\n",
       "       \"Child's Pose\", 'Warrior ll', 'Goddess', \"Child's Pose\",\n",
       "       \"Child's Pose\", 'Bound Angle', 'Plank', 'Bound Angle',\n",
       "       'Bound Angle', \"Child's Pose\", 'Tree', \"Child's Pose\",\n",
       "       'Warrior ll', \"Child's Pose\", \"Child's Pose\", \"Child's Pose\",\n",
       "       'Bound Angle', \"Child's Pose\", \"Child's Pose\", 'Bound Angle',\n",
       "       'Plank', \"Child's Pose\", 'Warrior ll', \"Child's Pose\",\n",
       "       'Warrior ll', \"Child's Pose\", 'Bound Angle', 'Tree', 'Tree',\n",
       "       \"Child's Pose\", \"Child's Pose\", 'Tree', 'Bound Angle',\n",
       "       \"Child's Pose\", 'Bound Angle', 'Plank', 'Warrior ll',\n",
       "       \"Child's Pose\", \"Child's Pose\", 'Tree', 'Tree', 'Goddess',\n",
       "       'Goddess', \"Child's Pose\", 'Warrior ll', 'Warrior ll', 'Plank',\n",
       "       'Warrior ll', 'Plank', 'Plank', \"Child's Pose\", \"Child's Pose\",\n",
       "       'Warrior ll', 'Tree', 'Warrior ll', \"Child's Pose\", 'Warrior ll',\n",
       "       'Tree', \"Child's Pose\", \"Child's Pose\", 'Tree', \"Child's Pose\",\n",
       "       'Plank', 'Goddess', 'Tree', 'Tree', \"Child's Pose\", \"Child's Pose\",\n",
       "       \"Child's Pose\", 'Bound Angle', 'Goddess', \"Child's Pose\",\n",
       "       \"Child's Pose\", 'Goddess', 'Warrior ll', \"Child's Pose\",\n",
       "       'Bound Angle', 'Bound Angle', \"Child's Pose\", \"Child's Pose\",\n",
       "       'Plank', 'Plank', \"Child's Pose\", \"Child's Pose\", 'Plank',\n",
       "       'Warrior ll', 'Warrior ll', 'Bound Angle', 'Tree', 'Bound Angle',\n",
       "       'Plank', 'Warrior ll', 'Tree', \"Child's Pose\", \"Child's Pose\",\n",
       "       'Goddess', 'Tree', 'Plank', 'Goddess', 'Goddess', \"Child's Pose\",\n",
       "       \"Child's Pose\", 'Warrior ll', \"Child's Pose\", \"Child's Pose\",\n",
       "       'Bound Angle', 'Tree', 'Bound Angle', 'Tree', \"Child's Pose\",\n",
       "       'Tree', 'Goddess', 'Warrior ll', 'Warrior ll', \"Child's Pose\",\n",
       "       'Goddess', 'Tree', 'Bound Angle', \"Child's Pose\", 'Plank',\n",
       "       'Goddess', 'Bound Angle', 'Warrior ll', \"Child's Pose\",\n",
       "       'Warrior ll', 'Plank', 'Plank', 'Warrior ll', 'Plank',\n",
       "       \"Child's Pose\", 'Warrior ll', 'Tree', 'Tree', \"Child's Pose\",\n",
       "       'Tree', 'Plank', \"Child's Pose\", 'Plank', 'Plank', 'Warrior ll',\n",
       "       'Tree', 'Warrior ll', 'Tree', \"Child's Pose\", \"Child's Pose\",\n",
       "       \"Child's Pose\", 'Bound Angle', 'Plank', 'Plank', 'Goddess',\n",
       "       'Warrior ll', 'Warrior ll', 'Bound Angle', 'Tree', 'Tree',\n",
       "       'Warrior ll', 'Goddess', \"Child's Pose\", 'Goddess', 'Plank',\n",
       "       'Goddess', 'Plank', \"Child's Pose\", 'Bound Angle', 'Tree', 'Tree',\n",
       "       \"Child's Pose\", \"Child's Pose\", 'Plank', 'Bound Angle',\n",
       "       \"Child's Pose\", 'Plank', 'Tree', 'Warrior ll', 'Warrior ll',\n",
       "       \"Child's Pose\", \"Child's Pose\", 'Tree', 'Goddess', \"Child's Pose\",\n",
       "       'Warrior ll', 'Plank', 'Plank', 'Tree', \"Child's Pose\", 'Plank',\n",
       "       'Plank', \"Child's Pose\", 'Bound Angle', 'Tree', 'Warrior ll',\n",
       "       \"Child's Pose\", 'Bound Angle', 'Bound Angle', \"Child's Pose\",\n",
       "       \"Child's Pose\", \"Child's Pose\", \"Child's Pose\", 'Bound Angle',\n",
       "       \"Child's Pose\", \"Child's Pose\", 'Tree', 'Tree', \"Child's Pose\",\n",
       "       \"Child's Pose\", 'Tree', \"Child's Pose\", 'Warrior ll',\n",
       "       'Bound Angle', \"Child's Pose\", 'Tree', 'Plank', 'Goddess',\n",
       "       \"Child's Pose\", \"Child's Pose\", 'Plank', 'Bound Angle', 'Tree',\n",
       "       \"Child's Pose\", 'Plank', 'Warrior ll', \"Child's Pose\",\n",
       "       \"Child's Pose\", \"Child's Pose\", 'Bound Angle', 'Bound Angle',\n",
       "       'Goddess', 'Warrior ll', \"Child's Pose\", 'Warrior ll',\n",
       "       'Bound Angle', 'Warrior ll', \"Child's Pose\", 'Warrior ll',\n",
       "       'Warrior ll', \"Child's Pose\", 'Tree', \"Child's Pose\",\n",
       "       \"Child's Pose\", \"Child's Pose\", 'Bound Angle', 'Goddess',\n",
       "       \"Child's Pose\", 'Goddess', 'Tree', \"Child's Pose\", 'Plank',\n",
       "       'Bound Angle', 'Tree', 'Plank', 'Tree', 'Bound Angle', 'Tree',\n",
       "       'Warrior ll', \"Child's Pose\", 'Tree', \"Child's Pose\",\n",
       "       \"Child's Pose\", 'Plank', \"Child's Pose\", \"Child's Pose\", 'Goddess',\n",
       "       'Warrior ll', 'Tree', 'Plank', 'Tree', 'Warrior ll', 'Tree',\n",
       "       'Plank', 'Tree', 'Warrior ll', 'Warrior ll', \"Child's Pose\",\n",
       "       'Bound Angle', 'Plank', 'Warrior ll', 'Goddess', \"Child's Pose\",\n",
       "       \"Child's Pose\", 'Plank', 'Tree', \"Child's Pose\", 'Bound Angle',\n",
       "       'Warrior ll', 'Tree', 'Bound Angle', 'Bound Angle', \"Child's Pose\",\n",
       "       'Warrior ll', 'Tree', 'Warrior ll', 'Goddess', 'Tree', 'Tree',\n",
       "       \"Child's Pose\", \"Child's Pose\", \"Child's Pose\", 'Tree',\n",
       "       \"Child's Pose\", \"Child's Pose\", 'Plank', 'Tree', 'Plank', 'Plank',\n",
       "       'Plank', 'Warrior ll', 'Tree', \"Child's Pose\", \"Child's Pose\",\n",
       "       'Tree', 'Warrior ll', 'Bound Angle', \"Child's Pose\", 'Bound Angle',\n",
       "       \"Child's Pose\", 'Warrior ll', \"Child's Pose\", \"Child's Pose\",\n",
       "       \"Child's Pose\", \"Child's Pose\", 'Tree', \"Child's Pose\", 'Tree',\n",
       "       'Tree', 'Plank', 'Warrior ll', \"Child's Pose\", \"Child's Pose\",\n",
       "       \"Child's Pose\", 'Tree', \"Child's Pose\", 'Tree', 'Tree',\n",
       "       \"Child's Pose\", 'Plank', 'Plank', \"Child's Pose\", 'Goddess',\n",
       "       'Bound Angle', 'Tree', \"Child's Pose\", 'Goddess', 'Plank',\n",
       "       \"Child's Pose\", 'Goddess', 'Warrior ll', 'Goddess', 'Tree', 'Tree',\n",
       "       \"Child's Pose\"], dtype=object)"
      ]
     },
     "execution_count": 77,
     "metadata": {},
     "output_type": "execute_result"
    }
   ],
   "source": [
    "fit_models['rf'].predict(x_test)"
   ]
  },
  {
   "cell_type": "code",
   "execution_count": 6,
   "metadata": {},
   "outputs": [],
   "source": [
    "from sklearn.metrics import accuracy_score\n",
    "import pickle"
   ]
  },
  {
   "cell_type": "code",
   "execution_count": 83,
   "metadata": {},
   "outputs": [
    {
     "name": "stdout",
     "output_type": "stream",
     "text": [
      "lr 1.0\n",
      "rc 1.0\n",
      "rf 0.9979838709677419\n"
     ]
    }
   ],
   "source": [
    "for algo, model in fit_models.items():\n",
    "    yhat = model.predict(x_test)\n",
    "    print(algo, accuracy_score(y_test, yhat))"
   ]
  },
  {
   "cell_type": "code",
   "execution_count": 8,
   "metadata": {},
   "outputs": [
    {
     "ename": "NameError",
     "evalue": "name 'fit_models' is not defined",
     "output_type": "error",
     "traceback": [
      "\u001b[1;31m---------------------------------------------------------------------------\u001b[0m",
      "\u001b[1;31mNameError\u001b[0m                                 Traceback (most recent call last)",
      "Cell \u001b[1;32mIn[8], line 2\u001b[0m\n\u001b[0;32m      1\u001b[0m \u001b[39mwith\u001b[39;00m \u001b[39mopen\u001b[39m(\u001b[39m'\u001b[39m\u001b[39mbody_language.pkl\u001b[39m\u001b[39m'\u001b[39m, \u001b[39m'\u001b[39m\u001b[39mwb\u001b[39m\u001b[39m'\u001b[39m) \u001b[39mas\u001b[39;00m f:\n\u001b[1;32m----> 2\u001b[0m     pickle\u001b[39m.\u001b[39mdump(fit_models[\u001b[39m'\u001b[39m\u001b[39mrf\u001b[39m\u001b[39m'\u001b[39m], f)\n",
      "\u001b[1;31mNameError\u001b[0m: name 'fit_models' is not defined"
     ]
    }
   ],
   "source": [
    "with open('body_language.pkl', 'wb') as f:\n",
    "    pickle.dump(fit_models['rf'], f)"
   ]
  },
  {
   "cell_type": "code",
   "execution_count": 15,
   "metadata": {},
   "outputs": [
    {
     "ename": "EOFError",
     "evalue": "Ran out of input",
     "output_type": "error",
     "traceback": [
      "\u001b[1;31m---------------------------------------------------------------------------\u001b[0m",
      "\u001b[1;31mEOFError\u001b[0m                                  Traceback (most recent call last)",
      "Cell \u001b[1;32mIn[15], line 2\u001b[0m\n\u001b[0;32m      1\u001b[0m \u001b[39mwith\u001b[39;00m \u001b[39mopen\u001b[39m(\u001b[39m'\u001b[39m\u001b[39mbody_language.pkl\u001b[39m\u001b[39m'\u001b[39m, \u001b[39m'\u001b[39m\u001b[39mrb\u001b[39m\u001b[39m'\u001b[39m) \u001b[39mas\u001b[39;00m f:\n\u001b[1;32m----> 2\u001b[0m     model \u001b[39m=\u001b[39m pickle\u001b[39m.\u001b[39;49mload(f)\n",
      "\u001b[1;31mEOFError\u001b[0m: Ran out of input"
     ]
    }
   ],
   "source": [
    "with open('body_language.pkl', 'rb') as f:\n",
    "    model = pickle.load(f)"
   ]
  },
  {
   "cell_type": "code",
   "execution_count": 13,
   "metadata": {},
   "outputs": [],
   "source": [
    "cap = cv2.VideoCapture(0)\n",
    "with mp_holistic.Holistic(min_detection_confidence=0.5, min_tracking_confidence=0.5) as holistic:\n",
    "    \n",
    "    while cap.isOpened():\n",
    "        ret, frame = cap.read()\n",
    "        \n",
    "        image = cv2.cvtColor(frame, cv2.COLOR_BGR2RGB)\n",
    "        image.flags.writeable = False\n",
    "\n",
    "        results = holistic.process(image)\n",
    "\n",
    "        image.flags.writeable = True\n",
    "        image = cv2.cvtColor(image, cv2.COLOR_RGB2BGR)\n",
    "\n",
    "        # Pose Detections\n",
    "        mp_drawing.draw_landmarks(image, results.pose_landmarks, mp_holistic.POSE_CONNECTIONS)\n",
    "        \n",
    "        # Export coordinates\n",
    "        try:\n",
    "            pose = results.pose_landmarks.landmark\n",
    "            pose_row = list(np.array([[landmark.x, landmark.y, landmark.z, landmark.visibility] for landmark in pose]).flatten())\n",
    "            row = pose_row\n",
    "\n",
    "            x = pd.DataFrame([row])\n",
    "            body_language_class = model.predict(x)[0]\n",
    "            body_language_prob = model.predict_proba(x)[0]\n",
    "            print(body_language_class, body_language_prob)\n",
    "\n",
    "            cv2.rectangle(image, (0,0), (300, 60), (245, 117, 16), -1)\n",
    "\n",
    "            cv2.putText(image, 'CLASS'\n",
    "                        , (95, 12), cv2.FONT_HERSHEY_SIMPLEX, 0.5, (0, 0, 0), 1, cv2.LINE_AA)\n",
    "            cv2.putText(image, body_language_class\n",
    "                        , (90, 40), cv2.FONT_HERSHEY_SIMPLEX, 1, (255, 255, 255), 2, cv2.LINE_AA)\n",
    "            \n",
    "            cv2.putText(image, 'PROB'\n",
    "                        , (15, 12), cv2.FONT_HERSHEY_SIMPLEX, 0.5, (0, 0, 0), 1, cv2.LINE_AA)\n",
    "            cv2.putText(image, str(round(body_language_prob[np.argmax(body_language_prob)],2))\n",
    "                        , (10, 40), cv2.FONT_HERSHEY_SIMPLEX, 1, (255, 255, 255), 2, cv2.LINE_AA)\n",
    "\n",
    "        except:\n",
    "            pass\n",
    "                        \n",
    "        cv2.imshow('Raw Webcam Feed', image)\n",
    "\n",
    "        if cv2.waitKey(10) & 0xFF == ord('q'):\n",
    "            break\n",
    "\n",
    "cap.release()\n",
    "cv2.destroyAllWindows()"
   ]
  }
 ],
 "metadata": {
  "kernelspec": {
   "display_name": "Python 3",
   "language": "python",
   "name": "python3"
  },
  "language_info": {
   "codemirror_mode": {
    "name": "ipython",
    "version": 3
   },
   "file_extension": ".py",
   "mimetype": "text/x-python",
   "name": "python",
   "nbconvert_exporter": "python",
   "pygments_lexer": "ipython3",
   "version": "3.11.4"
  },
  "orig_nbformat": 4
 },
 "nbformat": 4,
 "nbformat_minor": 2
}
